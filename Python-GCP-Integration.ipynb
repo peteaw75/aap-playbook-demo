{
 "cells": [
  {
   "cell_type": "code",
   "execution_count": 13,
   "metadata": {},
   "outputs": [
    {
     "name": "stdout",
     "output_type": "stream",
     "text": [
      "Requirement already satisfied: google-cloud-storage in c:\\users\\abhinav-pc\\anaconda3\\lib\\site-packages (1.38.0)\n",
      "Requirement already satisfied: requests<3.0.0dev,>=2.18.0 in c:\\users\\abhinav-pc\\anaconda3\\lib\\site-packages (from google-cloud-storage) (2.22.0)\n",
      "Requirement already satisfied: google-cloud-core<2.0dev,>=1.4.1 in c:\\users\\abhinav-pc\\anaconda3\\lib\\site-packages (from google-cloud-storage) (1.6.0)\n",
      "Requirement already satisfied: google-resumable-media<2.0dev,>=1.2.0 in c:\\users\\abhinav-pc\\anaconda3\\lib\\site-packages (from google-cloud-storage) (1.2.0)\n",
      "Requirement already satisfied: google-auth<2.0dev,>=1.11.0 in c:\\users\\abhinav-pc\\anaconda3\\lib\\site-packages (from google-cloud-storage) (1.30.0)\n",
      "Requirement already satisfied: idna<2.9,>=2.5 in c:\\users\\abhinav-pc\\anaconda3\\lib\\site-packages (from requests<3.0.0dev,>=2.18.0->google-cloud-storage) (2.8)\n",
      "Requirement already satisfied: chardet<3.1.0,>=3.0.2 in c:\\users\\abhinav-pc\\anaconda3\\lib\\site-packages (from requests<3.0.0dev,>=2.18.0->google-cloud-storage) (3.0.4)\n",
      "Requirement already satisfied: urllib3!=1.25.0,!=1.25.1,<1.26,>=1.21.1 in c:\\users\\abhinav-pc\\anaconda3\\lib\\site-packages (from requests<3.0.0dev,>=2.18.0->google-cloud-storage) (1.25.8)\n",
      "Requirement already satisfied: certifi>=2017.4.17 in c:\\users\\abhinav-pc\\anaconda3\\lib\\site-packages (from requests<3.0.0dev,>=2.18.0->google-cloud-storage) (2019.11.28)\n",
      "Requirement already satisfied: six>=1.12.0 in c:\\users\\abhinav-pc\\anaconda3\\lib\\site-packages (from google-cloud-core<2.0dev,>=1.4.1->google-cloud-storage) (1.14.0)\n",
      "Requirement already satisfied: google-api-core<2.0.0dev,>=1.21.0 in c:\\users\\abhinav-pc\\anaconda3\\lib\\site-packages (from google-cloud-core<2.0dev,>=1.4.1->google-cloud-storage) (1.26.3)\n",
      "Requirement already satisfied: google-crc32c<2.0dev,>=1.0; python_version >= \"3.5\" in c:\\users\\abhinav-pc\\anaconda3\\lib\\site-packages (from google-resumable-media<2.0dev,>=1.2.0->google-cloud-storage) (1.1.2)\n",
      "Requirement already satisfied: cachetools<5.0,>=2.0.0 in c:\\users\\abhinav-pc\\anaconda3\\lib\\site-packages (from google-auth<2.0dev,>=1.11.0->google-cloud-storage) (4.2.2)\n",
      "Requirement already satisfied: setuptools>=40.3.0 in c:\\users\\abhinav-pc\\anaconda3\\lib\\site-packages (from google-auth<2.0dev,>=1.11.0->google-cloud-storage) (45.2.0.post20200210)\n",
      "Requirement already satisfied: rsa<5,>=3.1.4; python_version >= \"3.6\" in c:\\users\\abhinav-pc\\anaconda3\\lib\\site-packages (from google-auth<2.0dev,>=1.11.0->google-cloud-storage) (4.7.2)\n",
      "Requirement already satisfied: pyasn1-modules>=0.2.1 in c:\\users\\abhinav-pc\\anaconda3\\lib\\site-packages (from google-auth<2.0dev,>=1.11.0->google-cloud-storage) (0.2.8)\n",
      "Requirement already satisfied: packaging>=14.3 in c:\\users\\abhinav-pc\\anaconda3\\lib\\site-packages (from google-api-core<2.0.0dev,>=1.21.0->google-cloud-core<2.0dev,>=1.4.1->google-cloud-storage) (20.1)\n",
      "Requirement already satisfied: pytz in c:\\users\\abhinav-pc\\anaconda3\\lib\\site-packages (from google-api-core<2.0.0dev,>=1.21.0->google-cloud-core<2.0dev,>=1.4.1->google-cloud-storage) (2019.3)\n",
      "Requirement already satisfied: protobuf>=3.12.0 in c:\\users\\abhinav-pc\\anaconda3\\lib\\site-packages (from google-api-core<2.0.0dev,>=1.21.0->google-cloud-core<2.0dev,>=1.4.1->google-cloud-storage) (3.13.0)\n",
      "Requirement already satisfied: googleapis-common-protos<2.0dev,>=1.6.0 in c:\\users\\abhinav-pc\\anaconda3\\lib\\site-packages (from google-api-core<2.0.0dev,>=1.21.0->google-cloud-core<2.0dev,>=1.4.1->google-cloud-storage) (1.53.0)\n",
      "Requirement already satisfied: cffi>=1.0.0 in c:\\users\\abhinav-pc\\anaconda3\\lib\\site-packages (from google-crc32c<2.0dev,>=1.0; python_version >= \"3.5\"->google-resumable-media<2.0dev,>=1.2.0->google-cloud-storage) (1.14.0)\n",
      "Requirement already satisfied: pyasn1>=0.1.3 in c:\\users\\abhinav-pc\\anaconda3\\lib\\site-packages (from rsa<5,>=3.1.4; python_version >= \"3.6\"->google-auth<2.0dev,>=1.11.0->google-cloud-storage) (0.4.8)\n",
      "Requirement already satisfied: pyparsing>=2.0.2 in c:\\users\\abhinav-pc\\anaconda3\\lib\\site-packages (from packaging>=14.3->google-api-core<2.0.0dev,>=1.21.0->google-cloud-core<2.0dev,>=1.4.1->google-cloud-storage) (2.4.6)\n",
      "Requirement already satisfied: pycparser in c:\\users\\abhinav-pc\\anaconda3\\lib\\site-packages (from cffi>=1.0.0->google-crc32c<2.0dev,>=1.0; python_version >= \"3.5\"->google-resumable-media<2.0dev,>=1.2.0->google-cloud-storage) (2.19)\n"
     ]
    }
   ],
   "source": [
    "!pip install google-cloud-storage"
   ]
  },
  {
   "cell_type": "code",
   "execution_count": 14,
   "metadata": {},
   "outputs": [],
   "source": [
    "\n",
    "from google.cloud import storage\n",
    "# Setting credentials using the downloaded JSON file\n",
    "client = storage.Client.from_service_account_json(json_credentials_path='credentials21.json')\n",
    "# Creating bucket object\n",
    "bucket = client.get_bucket('py-python21')\n",
    "# Name of the object to be stored in the bucket\n",
    "object_name_in_gcs_bucket = bucket.blob('my_Image.png')\n",
    "# Name of the object in local file system\n",
    "object_name_in_gcs_bucket.upload_from_filename('my_Image_file.png')"
   ]
  },
  {
   "cell_type": "code",
   "execution_count": null,
   "metadata": {},
   "outputs": [],
   "source": []
  }
 ],
 "metadata": {
  "kernelspec": {
   "display_name": "Python 3",
   "language": "python",
   "name": "python3"
  },
  "language_info": {
   "codemirror_mode": {
    "name": "ipython",
    "version": 3
   },
   "file_extension": ".py",
   "mimetype": "text/x-python",
   "name": "python",
   "nbconvert_exporter": "python",
   "pygments_lexer": "ipython3",
   "version": "3.7.6"
  }
 },
 "nbformat": 4,
 "nbformat_minor": 4
}
